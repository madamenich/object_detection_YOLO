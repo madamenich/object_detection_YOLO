{
 "cells": [
  {
   "cell_type": "code",
   "execution_count": 25,
   "metadata": {},
   "outputs": [],
   "source": [
    "import cv2\n",
    "import matplotlib.pyplot as plt\n",
    "\n",
    "def grid_display(n_grid,img_src):\n",
    "    im = cv2.imread(img_src)\n",
    "    imgheight=im.shape[0]\n",
    "    imgwidth=im.shape[1]\n",
    "    y1 = 0\n",
    "    M = imgheight//n_grid\n",
    "    N = imgwidth//n_grid\n",
    "\n",
    "    for y in range(0,imgheight,M):\n",
    "       for x in range(0, imgwidth, N):\n",
    "            y1 = y + M\n",
    "            x1 = x + N\n",
    "            tiles = im[y:y+M,x:x+N]\n",
    "\n",
    "            cv2.rectangle(im, (x, y), (x1, y1), (0, 0, 255))\n",
    "       \n",
    "            cv2.imwrite(\"save/\" + str(x) + '_' + str(y)+\".png\",tiles)\n",
    "\n",
    "    cv2.imwrite(\"gridded.png\",im)"
   ]
  },
  {
   "cell_type": "code",
   "execution_count": 26,
   "metadata": {},
   "outputs": [],
   "source": [
    "grid_display(4, './bus.jpg')"
   ]
  }
 ],
 "metadata": {
  "kernelspec": {
   "display_name": "env",
   "language": "python",
   "name": "python3"
  },
  "language_info": {
   "codemirror_mode": {
    "name": "ipython",
    "version": 3
   },
   "file_extension": ".py",
   "mimetype": "text/x-python",
   "name": "python",
   "nbconvert_exporter": "python",
   "pygments_lexer": "ipython3",
   "version": "3.11.4"
  },
  "orig_nbformat": 4
 },
 "nbformat": 4,
 "nbformat_minor": 2
}
